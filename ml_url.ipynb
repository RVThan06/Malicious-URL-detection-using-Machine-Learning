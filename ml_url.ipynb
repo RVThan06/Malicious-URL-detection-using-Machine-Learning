{
 "cells": [
  {
   "cell_type": "markdown",
   "metadata": {},
   "source": [
    "## Setup"
   ]
  },
  {
   "cell_type": "code",
   "execution_count": 57,
   "metadata": {},
   "outputs": [],
   "source": [
    "# standard library import\n",
    "import re\n",
    "\n",
    "\n",
    "# third party import\n",
    "import matplotlib.pyplot as plt\n",
    "import pandas as pd\n",
    "from urllib.parse import urlparse\n",
    "from tld import get_tld\n",
    "from sklearn.preprocessing import LabelEncoder\n",
    "from sklearn.preprocessing import StandardScaler\n",
    "from sklearn.model_selection import train_test_split\n",
    "from sklearn.metrics import classification_report, confusion_matrix\n",
    "import sklearn.metrics as met\n",
    "from scipy.stats import randint\n",
    "import xgboost as xgb\n",
    "import lightgbm as lgb\n",
    "from sklearn.ensemble import StackingClassifier, RandomForestClassifier, VotingClassifier\n",
    "from sklearn.model_selection import RandomizedSearchCV\n"
   ]
  },
  {
   "cell_type": "markdown",
   "metadata": {},
   "source": [
    "## 1. Exploring dataset"
   ]
  },
  {
   "cell_type": "code",
   "execution_count": 4,
   "metadata": {},
   "outputs": [
    {
     "data": {
      "text/html": [
       "<div>\n",
       "<style scoped>\n",
       "    .dataframe tbody tr th:only-of-type {\n",
       "        vertical-align: middle;\n",
       "    }\n",
       "\n",
       "    .dataframe tbody tr th {\n",
       "        vertical-align: top;\n",
       "    }\n",
       "\n",
       "    .dataframe thead th {\n",
       "        text-align: right;\n",
       "    }\n",
       "</style>\n",
       "<table border=\"1\" class=\"dataframe\">\n",
       "  <thead>\n",
       "    <tr style=\"text-align: right;\">\n",
       "      <th></th>\n",
       "      <th>url</th>\n",
       "      <th>type</th>\n",
       "    </tr>\n",
       "  </thead>\n",
       "  <tbody>\n",
       "    <tr>\n",
       "      <th>0</th>\n",
       "      <td>br-icloud.com.br</td>\n",
       "      <td>phishing</td>\n",
       "    </tr>\n",
       "    <tr>\n",
       "      <th>1</th>\n",
       "      <td>mp3raid.com/music/krizz_kaliko.html</td>\n",
       "      <td>benign</td>\n",
       "    </tr>\n",
       "    <tr>\n",
       "      <th>2</th>\n",
       "      <td>bopsecrets.org/rexroth/cr/1.htm</td>\n",
       "      <td>benign</td>\n",
       "    </tr>\n",
       "    <tr>\n",
       "      <th>3</th>\n",
       "      <td>http://www.garage-pirenne.be/index.php?option=...</td>\n",
       "      <td>defacement</td>\n",
       "    </tr>\n",
       "    <tr>\n",
       "      <th>4</th>\n",
       "      <td>http://adventure-nicaragua.net/index.php?optio...</td>\n",
       "      <td>defacement</td>\n",
       "    </tr>\n",
       "  </tbody>\n",
       "</table>\n",
       "</div>"
      ],
      "text/plain": [
       "                                                 url        type\n",
       "0                                   br-icloud.com.br    phishing\n",
       "1                mp3raid.com/music/krizz_kaliko.html      benign\n",
       "2                    bopsecrets.org/rexroth/cr/1.htm      benign\n",
       "3  http://www.garage-pirenne.be/index.php?option=...  defacement\n",
       "4  http://adventure-nicaragua.net/index.php?optio...  defacement"
      ]
     },
     "execution_count": 4,
     "metadata": {},
     "output_type": "execute_result"
    }
   ],
   "source": [
    "# obtain the dataset as a dataframe\n",
    "df = pd.read_csv(\"malicious_phish.csv\")\n",
    "\n",
    "# print the first 5 rows\n",
    "df.head()"
   ]
  },
  {
   "cell_type": "code",
   "execution_count": 5,
   "metadata": {},
   "outputs": [
    {
     "name": "stdout",
     "output_type": "stream",
     "text": [
      "<class 'pandas.core.frame.DataFrame'>\n",
      "RangeIndex: 651191 entries, 0 to 651190\n",
      "Data columns (total 2 columns):\n",
      " #   Column  Non-Null Count   Dtype \n",
      "---  ------  --------------   ----- \n",
      " 0   url     651191 non-null  object\n",
      " 1   type    651191 non-null  object\n",
      "dtypes: object(2)\n",
      "memory usage: 9.9+ MB\n"
     ]
    }
   ],
   "source": [
    "# to obtain additional info on the dataset\n",
    "df.info()"
   ]
  },
  {
   "cell_type": "code",
   "execution_count": 5,
   "metadata": {},
   "outputs": [
    {
     "data": {
      "text/plain": [
       "Index(['url', 'type'], dtype='object')"
      ]
     },
     "execution_count": 5,
     "metadata": {},
     "output_type": "execute_result"
    }
   ],
   "source": [
    "# to get the type of keys present\n",
    "df.keys()"
   ]
  },
  {
   "cell_type": "code",
   "execution_count": 6,
   "metadata": {},
   "outputs": [
    {
     "data": {
      "text/plain": [
       "type\n",
       "benign        428103\n",
       "defacement     96457\n",
       "phishing       94111\n",
       "malware        32520\n",
       "Name: count, dtype: int64"
      ]
     },
     "execution_count": 6,
     "metadata": {},
     "output_type": "execute_result"
    }
   ],
   "source": [
    "# to get the url distribution based on each class\n",
    "df['type'].value_counts()"
   ]
  },
  {
   "cell_type": "code",
   "execution_count": 9,
   "metadata": {},
   "outputs": [
    {
     "data": {
      "text/plain": [
       "url     0\n",
       "type    0\n",
       "dtype: int64"
      ]
     },
     "execution_count": 9,
     "metadata": {},
     "output_type": "execute_result"
    }
   ],
   "source": [
    "# checking for null values\n",
    "df.isnull().sum()"
   ]
  },
  {
   "cell_type": "markdown",
   "metadata": {},
   "source": [
    "## 2. Feature engineering"
   ]
  },
  {
   "cell_type": "code",
   "execution_count": 6,
   "metadata": {},
   "outputs": [],
   "source": [
    "# feature 1: To check for presence of IP address\n",
    "def has_IP(url:str) -> int:\n",
    "    \"\"\"Check present of IP address.\"\"\"\n",
    "\n",
    "    status = 0\n",
    "    match = re.search(\n",
    "        '(([01]?\\\\d\\\\d?|2[0-4]\\\\d|25[0-5])\\\\.([01]?\\\\d\\\\d?|2[0-4]\\\\d|25[0-5])\\\\.([01]?\\\\d\\\\d?|2[0-4]\\\\d|25[0-5])\\\\.'\n",
    "        '([01]?\\\\d\\\\d?|2[0-4]\\\\d|25[0-5])\\\\/)|'  # IPv4\n",
    "        '(([01]?\\\\d\\\\d?|2[0-4]\\\\d|25[0-5])\\\\.([01]?\\\\d\\\\d?|2[0-4]\\\\d|25[0-5])\\\\.([01]?\\\\d\\\\d?|2[0-4]\\\\d|25[0-5])\\\\.'\n",
    "        '([01]?\\\\d\\\\d?|2[0-4]\\\\d|25[0-5])\\\\/)|'  # IPv4 with port\n",
    "        '((0x[0-9a-fA-F]{1,2})\\\\.(0x[0-9a-fA-F]{1,2})\\\\.(0x[0-9a-fA-F]{1,2})\\\\.(0x[0-9a-fA-F]{1,2})\\\\/)' # IPv4 in hexadecimal\n",
    "        '(?:[a-fA-F0-9]{1,4}:){7}[a-fA-F0-9]{1,4}|'\n",
    "        '([0-9]+(?:\\.[0-9]+){3}:[0-9]+)|'\n",
    "        '((?:(?:\\d|[01]?\\d\\d|2[0-4]\\d|25[0-5])\\.){3}(?:25[0-5]|2[0-4]\\d|[01]?\\d\\d|\\d)(?:\\/\\d{1,2})?)', url)  # Ipv6\n",
    "\n",
    "    if match:\n",
    "        status = 1\n",
    "\n",
    "    return status\n"
   ]
  },
  {
   "cell_type": "code",
   "execution_count": 7,
   "metadata": {},
   "outputs": [],
   "source": [
    "# Feature 2: To count (.) dot\n",
    "def count_dot(url:str) -> int:\n",
    "    \"\"\"Count num of dot in url.\"\"\"\n",
    "\n",
    "    return url.count('.')\n",
    "\n",
    "# feature 3: To count dot com(.com)\n",
    "def count_dot_com(url:str) -> int:\n",
    "    \"\"\"To count dot com.\"\"\"\n",
    "\n",
    "    return url.count('.com')\n",
    "\n",
    "# feature 4: To count dot co(.co)\n",
    "def count_dot_co(url:str) -> int:\n",
    "    \"\"\"To count dot co.\"\"\"\n",
    "\n",
    "    return url.count('.co')\n",
    "\n",
    "\n",
    "# feature 5: To count dot net(.net)\n",
    "def count_dot_net(url:str) -> int:\n",
    "    \"\"\"To count dot net.\"\"\"\n",
    "\n",
    "    return url.count('.net')\n",
    "\n",
    "# feature 6: To count www\n",
    "def count_www(url:str) -> int:\n",
    "    \"\"\"To count www\"\"\"\n",
    "\n",
    "    return url.count('www')\n",
    "\n",
    "# feature 7: To count @\n",
    "def count_at(url:str) -> int:\n",
    "    \"\"\"To count @\"\"\"\n",
    "\n",
    "    return url.count('@')\n",
    "\n",
    "# feature 8: To count /\n",
    "def count_directory(url:str) -> int:\n",
    "    \"\"\"To count nu of directory /\"\"\"\n",
    "\n",
    "    urldir = urlparse(url).path\n",
    "    return urldir.count('/')\n",
    "\n",
    "# feature 9: To count //\n",
    "def count_embedded_domain(url:str) -> int:\n",
    "    \"\"\"To count nu of //\"\"\"\n",
    "\n",
    "    urldir = urlparse(url).path\n",
    "    return urldir.count('//')\n",
    "\n",
    "# feature 10: To check https\n",
    "def https_present(url:str) -> int:\n",
    "    \"\"\"To check for presence of https.\"\"\"\n",
    "\n",
    "    status = 0\n",
    "    https = urlparse(url).scheme\n",
    "    match = str(https)\n",
    "    if match=='https':\n",
    "        status = 1\n",
    "    return status\n",
    "\n",
    "# feature 11: To count http\n",
    "def count_http(url:str) -> int:\n",
    "    \"\"\"To check for http protocol.\"\"\"\n",
    "\n",
    "    return url.count('http')\n",
    "\n",
    "# Feature 12: count % in url\n",
    "def count_percent(url:str) -> int:\n",
    "    \"\"\"To count %\"\"\"\n",
    "\n",
    "    return url.count('%')\n",
    "\n",
    "# Feature 13: count ? in url\n",
    "def count_ques(url:str) -> int:\n",
    "    \"\"\"To count ?\"\"\"\n",
    "\n",
    "    return url.count('?')\n",
    "\n",
    "\n",
    "# Feature 14: count hyphen in url\n",
    "def count_hyphen(url:str) -> int:\n",
    "    \"\"\"To count -\"\"\"\n",
    "\n",
    "    return url.count('-')\n",
    "\n",
    "\n",
    "# Feature 15: count = in url\n",
    "def count_equal(url:str) -> int:\n",
    "    \"\"\"To count =\"\"\"\n",
    "\n",
    "    return url.count('=')\n",
    "\n",
    "# feature 16: to count length of url\n",
    "def url_length(url:str) -> int:\n",
    "    \"\"\"Check url length.\"\"\"\n",
    "\n",
    "    return len(str(url))\n",
    "\n",
    "\n",
    "# Feature 17: digit count\n",
    "def digit_count(url:str) -> int:\n",
    "    \"\"\"count number of digits in url.\"\"\"\n",
    "\n",
    "    digits = 0\n",
    "    for i in url:\n",
    "        if i.isnumeric():\n",
    "            digits = digits + 1\n",
    "    return digits\n",
    "\n",
    "\n",
    "# Feature 18: letter count\n",
    "def letter_count(url:str) -> int:\n",
    "    \"\"\"to count num of letters\"\"\"\n",
    "\n",
    "    letters = 0\n",
    "    for i in url:\n",
    "        if i.isalpha():\n",
    "            letters = letters + 1\n",
    "    return letters\n",
    "\n",
    "# feature 19: upper case letter count\n",
    "def upper_case(url:str) -> int:\n",
    "    \"\"\"to count num of upper case.\"\"\"\n",
    "\n",
    "    return sum(c.isupper() for c in url)\n",
    "\n",
    "# feature 20: lower case letter count\n",
    "def lower_case(url:str) -> int:\n",
    "    \"\"\"to count num of lower case.\"\"\"\n",
    "\n",
    "    return sum(c.islower() for c in url)\n"
   ]
  },
  {
   "cell_type": "code",
   "execution_count": 8,
   "metadata": {},
   "outputs": [],
   "source": [
    "# feature 21: hostname length\n",
    "def hostname_length(url:str) -> int:\n",
    "    \"\"\"Get the hostname length.\"\"\"\n",
    "\n",
    "    return len(urlparse(url).netloc)\n",
    "\n",
    "# Feature 22: first directory length\n",
    "def fd_length(url:str) -> int:\n",
    "    urlpath= urlparse(url).path\n",
    "    try:\n",
    "        return len(urlpath.split('/')[1])\n",
    "    except:\n",
    "        return 0\n",
    "\n",
    "# Feature 23: check for url shortening service\n",
    "def shortening_service(url:str) -> int:\n",
    "    match = re.search('bit\\.ly|goo\\.gl|shorte\\.st|go2l\\.ink|x\\.co|ow\\.ly|t\\.co|tinyurl|tr\\.im|is\\.gd|cli\\.gs|'\n",
    "                      'yfrog\\.com|migre\\.me|ff\\.im|tiny\\.cc|url4\\.eu|twit\\.ac|su\\.pr|twurl\\.nl|snipurl\\.com|'\n",
    "                      'short\\.to|BudURL\\.com|ping\\.fm|post\\.ly|Just\\.as|bkite\\.com|snipr\\.com|fic\\.kr|loopt\\.us|'\n",
    "                      'doiop\\.com|short\\.ie|kl\\.am|wp\\.me|rubyurl\\.com|om\\.ly|to\\.ly|bit\\.do|t\\.co|lnkd\\.in|'\n",
    "                      'db\\.tt|qr\\.ae|adf\\.ly|goo\\.gl|bitly\\.com|cur\\.lv|tinyurl\\.com|ow\\.ly|bit\\.ly|ity\\.im|'\n",
    "                      'q\\.gs|is\\.gd|po\\.st|bc\\.vc|twitthis\\.com|u\\.to|j\\.mp|buzurl\\.com|cutt\\.us|u\\.bb|yourls\\.org|'\n",
    "                      'x\\.co|prettylinkpro\\.com|scrnch\\.me|filoops\\.info|vzturl\\.com|qr\\.net|1url\\.com|tweez\\.me|v\\.gd|'\n",
    "                      'tr\\.im|link\\.zip\\.net',\n",
    "                      url)\n",
    "    if match:\n",
    "        return 1\n",
    "    else:\n",
    "        return 0\n",
    "\n",
    "# Feature 24: check for hostname match\n",
    "def abnormal_url(url:str) -> int:\n",
    "    \"\"\"to get abnormal url\"\"\"\n",
    "\n",
    "    hostname = urlparse(url).hostname\n",
    "    hostname = str(hostname)\n",
    "    match = re.search(hostname, url)\n",
    "    if match:\n",
    "        return 1\n",
    "    else:\n",
    "        return 0\n",
    "\n",
    "\n",
    "# Feature 26: Suspicious word\n",
    "def suspicious_words(url):\n",
    "    match = re.search('PayPal|login|signin|bank|account|update|free|lucky|service|bonus|ebayisapi|webscr',\n",
    "                      url)\n",
    "    if match:\n",
    "        return 1\n",
    "    else:\n",
    "        return 0"
   ]
  },
  {
   "cell_type": "markdown",
   "metadata": {},
   "source": [
    "#### 2.a Adding features to dataset"
   ]
  },
  {
   "cell_type": "code",
   "execution_count": 9,
   "metadata": {},
   "outputs": [],
   "source": [
    "df_sample = df.copy()"
   ]
  },
  {
   "cell_type": "code",
   "execution_count": 10,
   "metadata": {},
   "outputs": [],
   "source": [
    "df_sample['has_ip'] = df_sample['url'].apply(lambda i: has_IP(i))\n",
    "df_sample[\"count_dot\"] = df_sample['url'].apply(lambda i: count_dot(i))\n",
    "df_sample[\"count_dot_com\"] = df_sample['url'].apply(lambda i: count_dot_com(i))\n",
    "df_sample[\"count_dot_co\"] = df_sample['url'].apply(lambda i: count_dot_co(i))\n",
    "df_sample[\"count_dot_net\"] = df_sample['url'].apply(lambda i: count_dot_net(i))\n",
    "df_sample[\"count_www\"] = df_sample['url'].apply(lambda i: count_www(i))\n",
    "df_sample[\"count_at\"] = df_sample['url'].apply(lambda i: count_at(i))\n",
    "df_sample[\"count_directory\"] = df_sample['url'].apply(lambda i: count_directory(i))\n",
    "df_sample[\"count_embedded_domain\"] = df_sample['url'].apply(lambda i: count_embedded_domain(i))\n",
    "df_sample[\"https\"] = df_sample['url'].apply(lambda i: https_present(i))\n",
    "df_sample[\"count_http\"] = df_sample['url'].apply(lambda i: count_http(i))\n",
    "df_sample[\"question_mark\"] = df_sample['url'].apply(lambda i: count_ques(i))\n",
    "df_sample[\"count_hyphen\"] = df_sample['url'].apply(lambda i: count_hyphen(i))\n",
    "df_sample[\"count_equal\"] = df_sample['url'].apply(lambda i: count_equal(i))\n",
    "df_sample[\"url_length\"] = df_sample['url'].apply(lambda i: url_length(i))\n",
    "df_sample[\"digit_count\"] = df_sample['url'].apply(lambda i: digit_count(i))\n",
    "df_sample[\"letter_count\"] = df_sample['url'].apply(lambda i: letter_count(i))\n",
    "df_sample[\"upper_case\"] = df_sample['url'].apply(lambda i: upper_case(i))\n",
    "df_sample[\"lower_case\"] = df_sample['url'].apply(lambda i: lower_case(i))\n",
    "df_sample[\"hostname_length\"] = df_sample['url'].apply(lambda i: hostname_length(i))\n",
    "df_sample[\"fd_length\"] = df_sample['url'].apply(lambda i: fd_length(i))\n",
    "df_sample[\"url_shortening\"] = df_sample['url'].apply(lambda i: shortening_service(i))\n",
    "df_sample[\"abnormal_url\"] = df_sample['url'].apply(lambda i: abnormal_url(i))\n",
    "df_sample[\"suspicious_words\"] = df_sample['url'].apply(lambda i: suspicious_words(i))\n",
    "df_sample[\"suspicious_words\"] = df_sample['url'].apply(lambda i: suspicious_words(i))"
   ]
  },
  {
   "cell_type": "code",
   "execution_count": 11,
   "metadata": {},
   "outputs": [],
   "source": [
    "# feature 25: tld length\n",
    "df_sample['tld'] = df_sample['url'].apply(lambda i: get_tld(i,fail_silently=True))\n",
    "def tld_length(tld):\n",
    "    try:\n",
    "        return len(tld)\n",
    "    except:\n",
    "        return -1\n",
    "df_sample['tld_length'] = df_sample['tld'].apply(lambda i: tld_length(i))"
   ]
  },
  {
   "cell_type": "code",
   "execution_count": 12,
   "metadata": {},
   "outputs": [],
   "source": [
    "df_sample.drop(\"tld\", axis=1, inplace=True)"
   ]
  },
  {
   "cell_type": "code",
   "execution_count": 13,
   "metadata": {},
   "outputs": [],
   "source": [
    "df_sample.drop(\"url\", axis=1, inplace=True)"
   ]
  },
  {
   "cell_type": "code",
   "execution_count": 14,
   "metadata": {},
   "outputs": [
    {
     "data": {
      "text/html": [
       "<div>\n",
       "<style scoped>\n",
       "    .dataframe tbody tr th:only-of-type {\n",
       "        vertical-align: middle;\n",
       "    }\n",
       "\n",
       "    .dataframe tbody tr th {\n",
       "        vertical-align: top;\n",
       "    }\n",
       "\n",
       "    .dataframe thead th {\n",
       "        text-align: right;\n",
       "    }\n",
       "</style>\n",
       "<table border=\"1\" class=\"dataframe\">\n",
       "  <thead>\n",
       "    <tr style=\"text-align: right;\">\n",
       "      <th></th>\n",
       "      <th>type</th>\n",
       "      <th>has_ip</th>\n",
       "      <th>count_dot</th>\n",
       "      <th>count_dot_com</th>\n",
       "      <th>count_dot_co</th>\n",
       "      <th>count_dot_net</th>\n",
       "      <th>count_www</th>\n",
       "      <th>count_at</th>\n",
       "      <th>count_directory</th>\n",
       "      <th>count_embedded_domain</th>\n",
       "      <th>...</th>\n",
       "      <th>digit_count</th>\n",
       "      <th>letter_count</th>\n",
       "      <th>upper_case</th>\n",
       "      <th>lower_case</th>\n",
       "      <th>hostname_length</th>\n",
       "      <th>fd_length</th>\n",
       "      <th>url_shortening</th>\n",
       "      <th>abnormal_url</th>\n",
       "      <th>suspicious_words</th>\n",
       "      <th>tld_length</th>\n",
       "    </tr>\n",
       "  </thead>\n",
       "  <tbody>\n",
       "    <tr>\n",
       "      <th>0</th>\n",
       "      <td>phishing</td>\n",
       "      <td>0</td>\n",
       "      <td>2</td>\n",
       "      <td>1</td>\n",
       "      <td>1</td>\n",
       "      <td>0</td>\n",
       "      <td>0</td>\n",
       "      <td>0</td>\n",
       "      <td>0</td>\n",
       "      <td>0</td>\n",
       "      <td>...</td>\n",
       "      <td>0</td>\n",
       "      <td>13</td>\n",
       "      <td>0</td>\n",
       "      <td>13</td>\n",
       "      <td>0</td>\n",
       "      <td>0</td>\n",
       "      <td>0</td>\n",
       "      <td>0</td>\n",
       "      <td>0</td>\n",
       "      <td>-1</td>\n",
       "    </tr>\n",
       "    <tr>\n",
       "      <th>1</th>\n",
       "      <td>benign</td>\n",
       "      <td>0</td>\n",
       "      <td>2</td>\n",
       "      <td>1</td>\n",
       "      <td>1</td>\n",
       "      <td>0</td>\n",
       "      <td>0</td>\n",
       "      <td>0</td>\n",
       "      <td>2</td>\n",
       "      <td>0</td>\n",
       "      <td>...</td>\n",
       "      <td>1</td>\n",
       "      <td>29</td>\n",
       "      <td>0</td>\n",
       "      <td>29</td>\n",
       "      <td>0</td>\n",
       "      <td>5</td>\n",
       "      <td>0</td>\n",
       "      <td>0</td>\n",
       "      <td>0</td>\n",
       "      <td>-1</td>\n",
       "    </tr>\n",
       "    <tr>\n",
       "      <th>2</th>\n",
       "      <td>benign</td>\n",
       "      <td>0</td>\n",
       "      <td>2</td>\n",
       "      <td>0</td>\n",
       "      <td>0</td>\n",
       "      <td>0</td>\n",
       "      <td>0</td>\n",
       "      <td>0</td>\n",
       "      <td>3</td>\n",
       "      <td>0</td>\n",
       "      <td>...</td>\n",
       "      <td>1</td>\n",
       "      <td>25</td>\n",
       "      <td>0</td>\n",
       "      <td>25</td>\n",
       "      <td>0</td>\n",
       "      <td>7</td>\n",
       "      <td>0</td>\n",
       "      <td>0</td>\n",
       "      <td>0</td>\n",
       "      <td>-1</td>\n",
       "    </tr>\n",
       "    <tr>\n",
       "      <th>3</th>\n",
       "      <td>defacement</td>\n",
       "      <td>0</td>\n",
       "      <td>3</td>\n",
       "      <td>0</td>\n",
       "      <td>0</td>\n",
       "      <td>0</td>\n",
       "      <td>1</td>\n",
       "      <td>0</td>\n",
       "      <td>1</td>\n",
       "      <td>0</td>\n",
       "      <td>...</td>\n",
       "      <td>7</td>\n",
       "      <td>63</td>\n",
       "      <td>0</td>\n",
       "      <td>63</td>\n",
       "      <td>21</td>\n",
       "      <td>9</td>\n",
       "      <td>0</td>\n",
       "      <td>1</td>\n",
       "      <td>0</td>\n",
       "      <td>2</td>\n",
       "    </tr>\n",
       "    <tr>\n",
       "      <th>4</th>\n",
       "      <td>defacement</td>\n",
       "      <td>0</td>\n",
       "      <td>2</td>\n",
       "      <td>0</td>\n",
       "      <td>0</td>\n",
       "      <td>1</td>\n",
       "      <td>0</td>\n",
       "      <td>0</td>\n",
       "      <td>1</td>\n",
       "      <td>0</td>\n",
       "      <td>...</td>\n",
       "      <td>22</td>\n",
       "      <td>199</td>\n",
       "      <td>63</td>\n",
       "      <td>136</td>\n",
       "      <td>23</td>\n",
       "      <td>9</td>\n",
       "      <td>0</td>\n",
       "      <td>1</td>\n",
       "      <td>0</td>\n",
       "      <td>3</td>\n",
       "    </tr>\n",
       "  </tbody>\n",
       "</table>\n",
       "<p>5 rows × 26 columns</p>\n",
       "</div>"
      ],
      "text/plain": [
       "         type  has_ip  count_dot  count_dot_com  count_dot_co  count_dot_net  \\\n",
       "0    phishing       0          2              1             1              0   \n",
       "1      benign       0          2              1             1              0   \n",
       "2      benign       0          2              0             0              0   \n",
       "3  defacement       0          3              0             0              0   \n",
       "4  defacement       0          2              0             0              1   \n",
       "\n",
       "   count_www  count_at  count_directory  count_embedded_domain  ...  \\\n",
       "0          0         0                0                      0  ...   \n",
       "1          0         0                2                      0  ...   \n",
       "2          0         0                3                      0  ...   \n",
       "3          1         0                1                      0  ...   \n",
       "4          0         0                1                      0  ...   \n",
       "\n",
       "   digit_count  letter_count  upper_case  lower_case  hostname_length  \\\n",
       "0            0            13           0          13                0   \n",
       "1            1            29           0          29                0   \n",
       "2            1            25           0          25                0   \n",
       "3            7            63           0          63               21   \n",
       "4           22           199          63         136               23   \n",
       "\n",
       "   fd_length  url_shortening  abnormal_url  suspicious_words  tld_length  \n",
       "0          0               0             0                 0          -1  \n",
       "1          5               0             0                 0          -1  \n",
       "2          7               0             0                 0          -1  \n",
       "3          9               0             1                 0           2  \n",
       "4          9               0             1                 0           3  \n",
       "\n",
       "[5 rows x 26 columns]"
      ]
     },
     "execution_count": 14,
     "metadata": {},
     "output_type": "execute_result"
    }
   ],
   "source": [
    "df_sample.head()"
   ]
  },
  {
   "cell_type": "code",
   "execution_count": 15,
   "metadata": {},
   "outputs": [
    {
     "data": {
      "text/plain": [
       "Index(['type', 'has_ip', 'count_dot', 'count_dot_com', 'count_dot_co',\n",
       "       'count_dot_net', 'count_www', 'count_at', 'count_directory',\n",
       "       'count_embedded_domain', 'https', 'count_http', 'question_mark',\n",
       "       'count_hyphen', 'count_equal', 'url_length', 'digit_count',\n",
       "       'letter_count', 'upper_case', 'lower_case', 'hostname_length',\n",
       "       'fd_length', 'url_shortening', 'abnormal_url', 'suspicious_words',\n",
       "       'tld_length'],\n",
       "      dtype='object')"
      ]
     },
     "execution_count": 15,
     "metadata": {},
     "output_type": "execute_result"
    }
   ],
   "source": [
    "df_sample.columns"
   ]
  },
  {
   "cell_type": "markdown",
   "metadata": {},
   "source": [
    "#### 2.b Label encoding the target (y)"
   ]
  },
  {
   "cell_type": "code",
   "execution_count": 16,
   "metadata": {},
   "outputs": [
    {
     "data": {
      "text/plain": [
       "type_code\n",
       "0    428103\n",
       "1     96457\n",
       "3     94111\n",
       "2     32520\n",
       "Name: count, dtype: int64"
      ]
     },
     "execution_count": 16,
     "metadata": {},
     "output_type": "execute_result"
    }
   ],
   "source": [
    "lb_make = LabelEncoder()\n",
    "df_sample[\"type_code\"] = lb_make.fit_transform(df_sample[\"type\"])\n",
    "df_sample[\"type_code\"].value_counts()"
   ]
  },
  {
   "cell_type": "code",
   "execution_count": 17,
   "metadata": {},
   "outputs": [],
   "source": [
    "df_sample.drop(\"type\", axis=1, inplace=True)"
   ]
  },
  {
   "cell_type": "code",
   "execution_count": 18,
   "metadata": {},
   "outputs": [
    {
     "data": {
      "text/plain": [
       "0    3\n",
       "1    0\n",
       "2    0\n",
       "3    1\n",
       "4    1\n",
       "Name: type_code, dtype: int32"
      ]
     },
     "execution_count": 18,
     "metadata": {},
     "output_type": "execute_result"
    }
   ],
   "source": [
    "# Target Variable/ y is isolated\n",
    "target = df_sample['type_code']\n",
    "target.head()"
   ]
  },
  {
   "cell_type": "code",
   "execution_count": 19,
   "metadata": {},
   "outputs": [
    {
     "data": {
      "text/html": [
       "<div>\n",
       "<style scoped>\n",
       "    .dataframe tbody tr th:only-of-type {\n",
       "        vertical-align: middle;\n",
       "    }\n",
       "\n",
       "    .dataframe tbody tr th {\n",
       "        vertical-align: top;\n",
       "    }\n",
       "\n",
       "    .dataframe thead th {\n",
       "        text-align: right;\n",
       "    }\n",
       "</style>\n",
       "<table border=\"1\" class=\"dataframe\">\n",
       "  <thead>\n",
       "    <tr style=\"text-align: right;\">\n",
       "      <th></th>\n",
       "      <th>has_ip</th>\n",
       "      <th>count_dot</th>\n",
       "      <th>count_dot_com</th>\n",
       "      <th>count_dot_co</th>\n",
       "      <th>count_dot_net</th>\n",
       "      <th>count_www</th>\n",
       "      <th>count_at</th>\n",
       "      <th>count_directory</th>\n",
       "      <th>count_embedded_domain</th>\n",
       "      <th>https</th>\n",
       "      <th>...</th>\n",
       "      <th>digit_count</th>\n",
       "      <th>letter_count</th>\n",
       "      <th>upper_case</th>\n",
       "      <th>lower_case</th>\n",
       "      <th>hostname_length</th>\n",
       "      <th>fd_length</th>\n",
       "      <th>url_shortening</th>\n",
       "      <th>abnormal_url</th>\n",
       "      <th>suspicious_words</th>\n",
       "      <th>tld_length</th>\n",
       "    </tr>\n",
       "  </thead>\n",
       "  <tbody>\n",
       "    <tr>\n",
       "      <th>0</th>\n",
       "      <td>0</td>\n",
       "      <td>2</td>\n",
       "      <td>1</td>\n",
       "      <td>1</td>\n",
       "      <td>0</td>\n",
       "      <td>0</td>\n",
       "      <td>0</td>\n",
       "      <td>0</td>\n",
       "      <td>0</td>\n",
       "      <td>0</td>\n",
       "      <td>...</td>\n",
       "      <td>0</td>\n",
       "      <td>13</td>\n",
       "      <td>0</td>\n",
       "      <td>13</td>\n",
       "      <td>0</td>\n",
       "      <td>0</td>\n",
       "      <td>0</td>\n",
       "      <td>0</td>\n",
       "      <td>0</td>\n",
       "      <td>-1</td>\n",
       "    </tr>\n",
       "    <tr>\n",
       "      <th>1</th>\n",
       "      <td>0</td>\n",
       "      <td>2</td>\n",
       "      <td>1</td>\n",
       "      <td>1</td>\n",
       "      <td>0</td>\n",
       "      <td>0</td>\n",
       "      <td>0</td>\n",
       "      <td>2</td>\n",
       "      <td>0</td>\n",
       "      <td>0</td>\n",
       "      <td>...</td>\n",
       "      <td>1</td>\n",
       "      <td>29</td>\n",
       "      <td>0</td>\n",
       "      <td>29</td>\n",
       "      <td>0</td>\n",
       "      <td>5</td>\n",
       "      <td>0</td>\n",
       "      <td>0</td>\n",
       "      <td>0</td>\n",
       "      <td>-1</td>\n",
       "    </tr>\n",
       "    <tr>\n",
       "      <th>2</th>\n",
       "      <td>0</td>\n",
       "      <td>2</td>\n",
       "      <td>0</td>\n",
       "      <td>0</td>\n",
       "      <td>0</td>\n",
       "      <td>0</td>\n",
       "      <td>0</td>\n",
       "      <td>3</td>\n",
       "      <td>0</td>\n",
       "      <td>0</td>\n",
       "      <td>...</td>\n",
       "      <td>1</td>\n",
       "      <td>25</td>\n",
       "      <td>0</td>\n",
       "      <td>25</td>\n",
       "      <td>0</td>\n",
       "      <td>7</td>\n",
       "      <td>0</td>\n",
       "      <td>0</td>\n",
       "      <td>0</td>\n",
       "      <td>-1</td>\n",
       "    </tr>\n",
       "    <tr>\n",
       "      <th>3</th>\n",
       "      <td>0</td>\n",
       "      <td>3</td>\n",
       "      <td>0</td>\n",
       "      <td>0</td>\n",
       "      <td>0</td>\n",
       "      <td>1</td>\n",
       "      <td>0</td>\n",
       "      <td>1</td>\n",
       "      <td>0</td>\n",
       "      <td>0</td>\n",
       "      <td>...</td>\n",
       "      <td>7</td>\n",
       "      <td>63</td>\n",
       "      <td>0</td>\n",
       "      <td>63</td>\n",
       "      <td>21</td>\n",
       "      <td>9</td>\n",
       "      <td>0</td>\n",
       "      <td>1</td>\n",
       "      <td>0</td>\n",
       "      <td>2</td>\n",
       "    </tr>\n",
       "    <tr>\n",
       "      <th>4</th>\n",
       "      <td>0</td>\n",
       "      <td>2</td>\n",
       "      <td>0</td>\n",
       "      <td>0</td>\n",
       "      <td>1</td>\n",
       "      <td>0</td>\n",
       "      <td>0</td>\n",
       "      <td>1</td>\n",
       "      <td>0</td>\n",
       "      <td>0</td>\n",
       "      <td>...</td>\n",
       "      <td>22</td>\n",
       "      <td>199</td>\n",
       "      <td>63</td>\n",
       "      <td>136</td>\n",
       "      <td>23</td>\n",
       "      <td>9</td>\n",
       "      <td>0</td>\n",
       "      <td>1</td>\n",
       "      <td>0</td>\n",
       "      <td>3</td>\n",
       "    </tr>\n",
       "  </tbody>\n",
       "</table>\n",
       "<p>5 rows × 25 columns</p>\n",
       "</div>"
      ],
      "text/plain": [
       "   has_ip  count_dot  count_dot_com  count_dot_co  count_dot_net  count_www  \\\n",
       "0       0          2              1             1              0          0   \n",
       "1       0          2              1             1              0          0   \n",
       "2       0          2              0             0              0          0   \n",
       "3       0          3              0             0              0          1   \n",
       "4       0          2              0             0              1          0   \n",
       "\n",
       "   count_at  count_directory  count_embedded_domain  https  ...  digit_count  \\\n",
       "0         0                0                      0      0  ...            0   \n",
       "1         0                2                      0      0  ...            1   \n",
       "2         0                3                      0      0  ...            1   \n",
       "3         0                1                      0      0  ...            7   \n",
       "4         0                1                      0      0  ...           22   \n",
       "\n",
       "   letter_count  upper_case  lower_case  hostname_length  fd_length  \\\n",
       "0            13           0          13                0          0   \n",
       "1            29           0          29                0          5   \n",
       "2            25           0          25                0          7   \n",
       "3            63           0          63               21          9   \n",
       "4           199          63         136               23          9   \n",
       "\n",
       "   url_shortening  abnormal_url  suspicious_words  tld_length  \n",
       "0               0             0                 0          -1  \n",
       "1               0             0                 0          -1  \n",
       "2               0             0                 0          -1  \n",
       "3               0             1                 0           2  \n",
       "4               0             1                 0           3  \n",
       "\n",
       "[5 rows x 25 columns]"
      ]
     },
     "execution_count": 19,
     "metadata": {},
     "output_type": "execute_result"
    }
   ],
   "source": [
    "df_sample.drop(\"type_code\", axis=1, inplace=True)\n",
    "df_sample.head()"
   ]
  },
  {
   "cell_type": "code",
   "execution_count": 20,
   "metadata": {},
   "outputs": [
    {
     "data": {
      "text/html": [
       "<div>\n",
       "<style scoped>\n",
       "    .dataframe tbody tr th:only-of-type {\n",
       "        vertical-align: middle;\n",
       "    }\n",
       "\n",
       "    .dataframe tbody tr th {\n",
       "        vertical-align: top;\n",
       "    }\n",
       "\n",
       "    .dataframe thead th {\n",
       "        text-align: right;\n",
       "    }\n",
       "</style>\n",
       "<table border=\"1\" class=\"dataframe\">\n",
       "  <thead>\n",
       "    <tr style=\"text-align: right;\">\n",
       "      <th></th>\n",
       "      <th>has_ip</th>\n",
       "      <th>count_dot</th>\n",
       "      <th>count_dot_com</th>\n",
       "      <th>count_dot_co</th>\n",
       "      <th>count_dot_net</th>\n",
       "      <th>count_www</th>\n",
       "      <th>count_at</th>\n",
       "      <th>count_directory</th>\n",
       "      <th>count_embedded_domain</th>\n",
       "      <th>https</th>\n",
       "      <th>...</th>\n",
       "      <th>digit_count</th>\n",
       "      <th>letter_count</th>\n",
       "      <th>upper_case</th>\n",
       "      <th>lower_case</th>\n",
       "      <th>hostname_length</th>\n",
       "      <th>fd_length</th>\n",
       "      <th>url_shortening</th>\n",
       "      <th>abnormal_url</th>\n",
       "      <th>suspicious_words</th>\n",
       "      <th>tld_length</th>\n",
       "    </tr>\n",
       "  </thead>\n",
       "  <tbody>\n",
       "    <tr>\n",
       "      <th>0</th>\n",
       "      <td>0</td>\n",
       "      <td>2</td>\n",
       "      <td>1</td>\n",
       "      <td>1</td>\n",
       "      <td>0</td>\n",
       "      <td>0</td>\n",
       "      <td>0</td>\n",
       "      <td>0</td>\n",
       "      <td>0</td>\n",
       "      <td>0</td>\n",
       "      <td>...</td>\n",
       "      <td>0</td>\n",
       "      <td>13</td>\n",
       "      <td>0</td>\n",
       "      <td>13</td>\n",
       "      <td>0</td>\n",
       "      <td>0</td>\n",
       "      <td>0</td>\n",
       "      <td>0</td>\n",
       "      <td>0</td>\n",
       "      <td>-1</td>\n",
       "    </tr>\n",
       "    <tr>\n",
       "      <th>1</th>\n",
       "      <td>0</td>\n",
       "      <td>2</td>\n",
       "      <td>1</td>\n",
       "      <td>1</td>\n",
       "      <td>0</td>\n",
       "      <td>0</td>\n",
       "      <td>0</td>\n",
       "      <td>2</td>\n",
       "      <td>0</td>\n",
       "      <td>0</td>\n",
       "      <td>...</td>\n",
       "      <td>1</td>\n",
       "      <td>29</td>\n",
       "      <td>0</td>\n",
       "      <td>29</td>\n",
       "      <td>0</td>\n",
       "      <td>5</td>\n",
       "      <td>0</td>\n",
       "      <td>0</td>\n",
       "      <td>0</td>\n",
       "      <td>-1</td>\n",
       "    </tr>\n",
       "    <tr>\n",
       "      <th>2</th>\n",
       "      <td>0</td>\n",
       "      <td>2</td>\n",
       "      <td>0</td>\n",
       "      <td>0</td>\n",
       "      <td>0</td>\n",
       "      <td>0</td>\n",
       "      <td>0</td>\n",
       "      <td>3</td>\n",
       "      <td>0</td>\n",
       "      <td>0</td>\n",
       "      <td>...</td>\n",
       "      <td>1</td>\n",
       "      <td>25</td>\n",
       "      <td>0</td>\n",
       "      <td>25</td>\n",
       "      <td>0</td>\n",
       "      <td>7</td>\n",
       "      <td>0</td>\n",
       "      <td>0</td>\n",
       "      <td>0</td>\n",
       "      <td>-1</td>\n",
       "    </tr>\n",
       "    <tr>\n",
       "      <th>3</th>\n",
       "      <td>0</td>\n",
       "      <td>3</td>\n",
       "      <td>0</td>\n",
       "      <td>0</td>\n",
       "      <td>0</td>\n",
       "      <td>1</td>\n",
       "      <td>0</td>\n",
       "      <td>1</td>\n",
       "      <td>0</td>\n",
       "      <td>0</td>\n",
       "      <td>...</td>\n",
       "      <td>7</td>\n",
       "      <td>63</td>\n",
       "      <td>0</td>\n",
       "      <td>63</td>\n",
       "      <td>21</td>\n",
       "      <td>9</td>\n",
       "      <td>0</td>\n",
       "      <td>1</td>\n",
       "      <td>0</td>\n",
       "      <td>2</td>\n",
       "    </tr>\n",
       "    <tr>\n",
       "      <th>4</th>\n",
       "      <td>0</td>\n",
       "      <td>2</td>\n",
       "      <td>0</td>\n",
       "      <td>0</td>\n",
       "      <td>1</td>\n",
       "      <td>0</td>\n",
       "      <td>0</td>\n",
       "      <td>1</td>\n",
       "      <td>0</td>\n",
       "      <td>0</td>\n",
       "      <td>...</td>\n",
       "      <td>22</td>\n",
       "      <td>199</td>\n",
       "      <td>63</td>\n",
       "      <td>136</td>\n",
       "      <td>23</td>\n",
       "      <td>9</td>\n",
       "      <td>0</td>\n",
       "      <td>1</td>\n",
       "      <td>0</td>\n",
       "      <td>3</td>\n",
       "    </tr>\n",
       "  </tbody>\n",
       "</table>\n",
       "<p>5 rows × 25 columns</p>\n",
       "</div>"
      ],
      "text/plain": [
       "   has_ip  count_dot  count_dot_com  count_dot_co  count_dot_net  count_www  \\\n",
       "0       0          2              1             1              0          0   \n",
       "1       0          2              1             1              0          0   \n",
       "2       0          2              0             0              0          0   \n",
       "3       0          3              0             0              0          1   \n",
       "4       0          2              0             0              1          0   \n",
       "\n",
       "   count_at  count_directory  count_embedded_domain  https  ...  digit_count  \\\n",
       "0         0                0                      0      0  ...            0   \n",
       "1         0                2                      0      0  ...            1   \n",
       "2         0                3                      0      0  ...            1   \n",
       "3         0                1                      0      0  ...            7   \n",
       "4         0                1                      0      0  ...           22   \n",
       "\n",
       "   letter_count  upper_case  lower_case  hostname_length  fd_length  \\\n",
       "0            13           0          13                0          0   \n",
       "1            29           0          29                0          5   \n",
       "2            25           0          25                0          7   \n",
       "3            63           0          63               21          9   \n",
       "4           199          63         136               23          9   \n",
       "\n",
       "   url_shortening  abnormal_url  suspicious_words  tld_length  \n",
       "0               0             0                 0          -1  \n",
       "1               0             0                 0          -1  \n",
       "2               0             0                 0          -1  \n",
       "3               0             1                 0           2  \n",
       "4               0             1                 0           3  \n",
       "\n",
       "[5 rows x 25 columns]"
      ]
     },
     "execution_count": 20,
     "metadata": {},
     "output_type": "execute_result"
    }
   ],
   "source": [
    "features_set = df_sample.copy()\n",
    "features_set.head()"
   ]
  },
  {
   "cell_type": "markdown",
   "metadata": {},
   "source": [
    "#### 2.c Scaling input features"
   ]
  },
  {
   "cell_type": "code",
   "execution_count": 21,
   "metadata": {},
   "outputs": [],
   "source": [
    "# scale the input feature set\n",
    "scaler = StandardScaler()\n",
    "scaled_feature = scaler.fit_transform(features_set)"
   ]
  },
  {
   "cell_type": "code",
   "execution_count": 22,
   "metadata": {},
   "outputs": [],
   "source": [
    "# convert back to dataframe\n",
    "scaled_feature = pd.DataFrame(scaled_feature)"
   ]
  },
  {
   "cell_type": "code",
   "execution_count": 23,
   "metadata": {},
   "outputs": [
    {
     "data": {
      "text/html": [
       "<div>\n",
       "<style scoped>\n",
       "    .dataframe tbody tr th:only-of-type {\n",
       "        vertical-align: middle;\n",
       "    }\n",
       "\n",
       "    .dataframe tbody tr th {\n",
       "        vertical-align: top;\n",
       "    }\n",
       "\n",
       "    .dataframe thead th {\n",
       "        text-align: right;\n",
       "    }\n",
       "</style>\n",
       "<table border=\"1\" class=\"dataframe\">\n",
       "  <thead>\n",
       "    <tr style=\"text-align: right;\">\n",
       "      <th></th>\n",
       "      <th>0</th>\n",
       "      <th>1</th>\n",
       "      <th>2</th>\n",
       "      <th>3</th>\n",
       "      <th>4</th>\n",
       "      <th>5</th>\n",
       "      <th>6</th>\n",
       "      <th>7</th>\n",
       "      <th>8</th>\n",
       "      <th>9</th>\n",
       "      <th>...</th>\n",
       "      <th>15</th>\n",
       "      <th>16</th>\n",
       "      <th>17</th>\n",
       "      <th>18</th>\n",
       "      <th>19</th>\n",
       "      <th>20</th>\n",
       "      <th>21</th>\n",
       "      <th>22</th>\n",
       "      <th>23</th>\n",
       "      <th>24</th>\n",
       "    </tr>\n",
       "  </thead>\n",
       "  <tbody>\n",
       "    <tr>\n",
       "      <th>0</th>\n",
       "      <td>-0.139829</td>\n",
       "      <td>-0.131112</td>\n",
       "      <td>0.666601</td>\n",
       "      <td>0.598871</td>\n",
       "      <td>-0.231009</td>\n",
       "      <td>-0.485023</td>\n",
       "      <td>-0.040954</td>\n",
       "      <td>-1.478722</td>\n",
       "      <td>-0.038715</td>\n",
       "      <td>-0.157077</td>\n",
       "      <td>...</td>\n",
       "      <td>-0.472396</td>\n",
       "      <td>-1.019688</td>\n",
       "      <td>-0.267447</td>\n",
       "      <td>-1.071836</td>\n",
       "      <td>-0.563635</td>\n",
       "      <td>-0.745233</td>\n",
       "      <td>-0.254988</td>\n",
       "      <td>-0.637101</td>\n",
       "      <td>-0.26713</td>\n",
       "      <td>-0.562805</td>\n",
       "    </tr>\n",
       "    <tr>\n",
       "      <th>1</th>\n",
       "      <td>-0.139829</td>\n",
       "      <td>-0.131112</td>\n",
       "      <td>0.666601</td>\n",
       "      <td>0.598871</td>\n",
       "      <td>-0.231009</td>\n",
       "      <td>-0.485023</td>\n",
       "      <td>-0.040954</td>\n",
       "      <td>-0.202334</td>\n",
       "      <td>-0.038715</td>\n",
       "      <td>-0.157077</td>\n",
       "      <td>...</td>\n",
       "      <td>-0.386931</td>\n",
       "      <td>-0.513751</td>\n",
       "      <td>-0.267447</td>\n",
       "      <td>-0.498308</td>\n",
       "      <td>-0.563635</td>\n",
       "      <td>-0.323868</td>\n",
       "      <td>-0.254988</td>\n",
       "      <td>-0.637101</td>\n",
       "      <td>-0.26713</td>\n",
       "      <td>-0.562805</td>\n",
       "    </tr>\n",
       "    <tr>\n",
       "      <th>2</th>\n",
       "      <td>-0.139829</td>\n",
       "      <td>-0.131112</td>\n",
       "      <td>-1.316598</td>\n",
       "      <td>-1.365988</td>\n",
       "      <td>-0.231009</td>\n",
       "      <td>-0.485023</td>\n",
       "      <td>-0.040954</td>\n",
       "      <td>0.435859</td>\n",
       "      <td>-0.038715</td>\n",
       "      <td>-0.157077</td>\n",
       "      <td>...</td>\n",
       "      <td>-0.386931</td>\n",
       "      <td>-0.640235</td>\n",
       "      <td>-0.267447</td>\n",
       "      <td>-0.641690</td>\n",
       "      <td>-0.563635</td>\n",
       "      <td>-0.155322</td>\n",
       "      <td>-0.254988</td>\n",
       "      <td>-0.637101</td>\n",
       "      <td>-0.26713</td>\n",
       "      <td>-0.562805</td>\n",
       "    </tr>\n",
       "    <tr>\n",
       "      <th>3</th>\n",
       "      <td>-0.139829</td>\n",
       "      <td>0.539700</td>\n",
       "      <td>-1.316598</td>\n",
       "      <td>-1.365988</td>\n",
       "      <td>-0.231009</td>\n",
       "      <td>1.997449</td>\n",
       "      <td>-0.040954</td>\n",
       "      <td>-0.840528</td>\n",
       "      <td>-0.038715</td>\n",
       "      <td>-0.157077</td>\n",
       "      <td>...</td>\n",
       "      <td>0.125854</td>\n",
       "      <td>0.561366</td>\n",
       "      <td>-0.267447</td>\n",
       "      <td>0.720437</td>\n",
       "      <td>1.792752</td>\n",
       "      <td>0.013223</td>\n",
       "      <td>-0.254988</td>\n",
       "      <td>1.569609</td>\n",
       "      <td>-0.26713</td>\n",
       "      <td>0.952136</td>\n",
       "    </tr>\n",
       "    <tr>\n",
       "      <th>4</th>\n",
       "      <td>-0.139829</td>\n",
       "      <td>-0.131112</td>\n",
       "      <td>-1.316598</td>\n",
       "      <td>-1.365988</td>\n",
       "      <td>3.408737</td>\n",
       "      <td>-0.485023</td>\n",
       "      <td>-0.040954</td>\n",
       "      <td>-0.840528</td>\n",
       "      <td>-0.038715</td>\n",
       "      <td>-0.157077</td>\n",
       "      <td>...</td>\n",
       "      <td>1.407817</td>\n",
       "      <td>4.861832</td>\n",
       "      <td>6.954458</td>\n",
       "      <td>3.337156</td>\n",
       "      <td>2.017170</td>\n",
       "      <td>0.013223</td>\n",
       "      <td>-0.254988</td>\n",
       "      <td>1.569609</td>\n",
       "      <td>-0.26713</td>\n",
       "      <td>1.457116</td>\n",
       "    </tr>\n",
       "  </tbody>\n",
       "</table>\n",
       "<p>5 rows × 25 columns</p>\n",
       "</div>"
      ],
      "text/plain": [
       "         0         1         2         3         4         5         6   \\\n",
       "0 -0.139829 -0.131112  0.666601  0.598871 -0.231009 -0.485023 -0.040954   \n",
       "1 -0.139829 -0.131112  0.666601  0.598871 -0.231009 -0.485023 -0.040954   \n",
       "2 -0.139829 -0.131112 -1.316598 -1.365988 -0.231009 -0.485023 -0.040954   \n",
       "3 -0.139829  0.539700 -1.316598 -1.365988 -0.231009  1.997449 -0.040954   \n",
       "4 -0.139829 -0.131112 -1.316598 -1.365988  3.408737 -0.485023 -0.040954   \n",
       "\n",
       "         7         8         9   ...        15        16        17        18  \\\n",
       "0 -1.478722 -0.038715 -0.157077  ... -0.472396 -1.019688 -0.267447 -1.071836   \n",
       "1 -0.202334 -0.038715 -0.157077  ... -0.386931 -0.513751 -0.267447 -0.498308   \n",
       "2  0.435859 -0.038715 -0.157077  ... -0.386931 -0.640235 -0.267447 -0.641690   \n",
       "3 -0.840528 -0.038715 -0.157077  ...  0.125854  0.561366 -0.267447  0.720437   \n",
       "4 -0.840528 -0.038715 -0.157077  ...  1.407817  4.861832  6.954458  3.337156   \n",
       "\n",
       "         19        20        21        22       23        24  \n",
       "0 -0.563635 -0.745233 -0.254988 -0.637101 -0.26713 -0.562805  \n",
       "1 -0.563635 -0.323868 -0.254988 -0.637101 -0.26713 -0.562805  \n",
       "2 -0.563635 -0.155322 -0.254988 -0.637101 -0.26713 -0.562805  \n",
       "3  1.792752  0.013223 -0.254988  1.569609 -0.26713  0.952136  \n",
       "4  2.017170  0.013223 -0.254988  1.569609 -0.26713  1.457116  \n",
       "\n",
       "[5 rows x 25 columns]"
      ]
     },
     "execution_count": 23,
     "metadata": {},
     "output_type": "execute_result"
    }
   ],
   "source": [
    "scaled_feature.head()"
   ]
  },
  {
   "cell_type": "markdown",
   "metadata": {},
   "source": [
    "#### 2.d Train test set splitting "
   ]
  },
  {
   "cell_type": "code",
   "execution_count": 24,
   "metadata": {},
   "outputs": [],
   "source": [
    "# the data is stratified based on the target\n",
    "\n",
    "X_train, X_test, y_train, y_test = train_test_split(scaled_feature, target, stratify=target, test_size=0.2,shuffle=True, random_state=42)"
   ]
  },
  {
   "cell_type": "markdown",
   "metadata": {},
   "source": [
    "## 3. Training ML models"
   ]
  },
  {
   "cell_type": "markdown",
   "metadata": {},
   "source": [
    "#### 3.a Logistic regression"
   ]
  },
  {
   "cell_type": "code",
   "execution_count": 25,
   "metadata": {},
   "outputs": [
    {
     "name": "stdout",
     "output_type": "stream",
     "text": [
      "              precision    recall  f1-score   support\n",
      "\n",
      "      benign       0.90      0.97      0.94     85621\n",
      "  defacement       0.86      0.95      0.90     19292\n",
      "    phishing       0.82      0.73      0.77      6504\n",
      "     malware       0.80      0.47      0.59     18822\n",
      "\n",
      "    accuracy                           0.88    130239\n",
      "   macro avg       0.84      0.78      0.80    130239\n",
      "weighted avg       0.88      0.88      0.87    130239\n",
      "\n",
      "accuracy:   0.884\n"
     ]
    }
   ],
   "source": [
    "from sklearn.linear_model import LogisticRegression\n",
    "\n",
    "log_clf = LogisticRegression(max_iter=1000)\n",
    "log_clf.fit(X_train, y_train)\n",
    "\n",
    "y_pred_log = log_clf.predict(X_test)\n",
    "print(classification_report(y_test,y_pred_log,target_names=['benign', 'defacement','phishing','malware']))\n",
    "\n",
    "score = met.accuracy_score(y_test, y_pred_log)\n",
    "print(\"accuracy:   %0.3f\" % score)"
   ]
  },
  {
   "cell_type": "code",
   "execution_count": 58,
   "metadata": {},
   "outputs": [
    {
     "data": {
      "image/png": "[encoded data removed]",
      "text/plain": [
       "<Figure size 640x480 with 2 Axes>"
      ]
     },
     "metadata": {},
     "output_type": "display_data"
    }
   ],
   "source": [
    "cm = confusion_matrix(y_test, y_pred_log)\n",
    "plt.rc('font', size=9)\n",
    "cc = met.ConfusionMatrixDisplay(cm, display_labels=['benign', 'defacement','phishing','malware'])\n",
    "cc.plot()\n",
    "plt.show()"
   ]
  },
  {
   "cell_type": "markdown",
   "metadata": {},
   "source": [
    "#### 3.b Decision Tree Classifier"
   ]
  },
  {
   "cell_type": "code",
   "execution_count": 59,
   "metadata": {},
   "outputs": [
    {
     "name": "stdout",
     "output_type": "stream",
     "text": [
      "              precision    recall  f1-score   support\n",
      "\n",
      "      benign       0.97      0.98      0.98     85621\n",
      "  defacement       0.98      0.98      0.98     19292\n",
      "    phishing       0.96      0.94      0.95      6504\n",
      "     malware       0.87      0.85      0.86     18822\n",
      "\n",
      "    accuracy                           0.96    130239\n",
      "   macro avg       0.94      0.94      0.94    130239\n",
      "weighted avg       0.96      0.96      0.96    130239\n",
      "\n",
      "accuracy:   0.959\n"
     ]
    }
   ],
   "source": [
    "from sklearn.tree import DecisionTreeClassifier\n",
    "\n",
    "tree_clf = DecisionTreeClassifier()\n",
    "tree_clf.fit(X_train, y_train)\n",
    "\n",
    "y_pred_tree = tree_clf.predict(X_test)\n",
    "print(classification_report(y_test,y_pred_tree,target_names=['benign', 'defacement','phishing','malware']))\n",
    "\n",
    "score = met.accuracy_score(y_test, y_pred_tree)\n",
    "print(\"accuracy:   %0.3f\" % score)"
   ]
  },
  {
   "cell_type": "code",
   "execution_count": 60,
   "metadata": {},
   "outputs": [
    {
     "data": {
      "image/png": "[encoded data removed]",
      "text/plain": [
       "<Figure size 640x480 with 2 Axes>"
      ]
     },
     "metadata": {},
     "output_type": "display_data"
    }
   ],
   "source": [
    "cm = confusion_matrix(y_test, y_pred_tree)\n",
    "plt.rc('font', size=9)\n",
    "cc = met.ConfusionMatrixDisplay(cm, display_labels=['benign', 'defacement','phishing','malware'])\n",
    "cc.plot()\n",
    "plt.show()"
   ]
  },
  {
   "cell_type": "code",
   "execution_count": 66,
   "metadata": {},
   "outputs": [
    {
     "name": "stdout",
     "output_type": "stream",
     "text": [
      "              precision    recall  f1-score   support\n",
      "\n",
      "      benign       0.97      0.98      0.98     85621\n",
      "  defacement       0.98      0.99      0.98     19292\n",
      "    phishing       0.96      0.94      0.95      6504\n",
      "     malware       0.88      0.85      0.86     18822\n",
      "\n",
      "    accuracy                           0.96    130239\n",
      "   macro avg       0.95      0.94      0.94    130239\n",
      "weighted avg       0.96      0.96      0.96    130239\n",
      "\n",
      "accuracy:   0.959\n"
     ]
    }
   ],
   "source": [
    "\n",
    "new_estimators = [(\"log\",log_clf),\n",
    "                 (\"tree\",tree_clf),\n",
    "                 (\"tree\",tree_clf),\n",
    "                ]\n",
    "\n",
    "voting_clf = VotingClassifier(estimators=new_estimators, voting='soft')\n",
    "\n",
    "voting_clf.fit(X_train,y_train)\n",
    "\n",
    "y_pred_vote = voting_clf.predict(X_test)\n",
    "print(classification_report(y_test,y_pred_vote,target_names=['benign', 'defacement','phishing','malware']))\n",
    "\n",
    "score = met.accuracy_score(y_test, y_pred_vote)\n",
    "print(\"accuracy:   %0.3f\" % score)"
   ]
  },
  {
   "cell_type": "markdown",
   "metadata": {},
   "source": [
    "#### 3.c Random Forest Classifier"
   ]
  },
  {
   "cell_type": "code",
   "execution_count": 36,
   "metadata": {},
   "outputs": [
    {
     "name": "stdout",
     "output_type": "stream",
     "text": [
      "              precision    recall  f1-score   support\n",
      "\n",
      "      benign       0.96      0.99      0.97     85621\n",
      "  defacement       0.91      0.98      0.95     19292\n",
      "    phishing       0.99      0.81      0.89      6504\n",
      "     malware       0.91      0.77      0.84     18822\n",
      "\n",
      "    accuracy                           0.95    130239\n",
      "   macro avg       0.94      0.89      0.91    130239\n",
      "weighted avg       0.95      0.95      0.95    130239\n",
      "\n",
      "accuracy:   0.948\n"
     ]
    }
   ],
   "source": [
    "rf = RandomForestClassifier(n_estimators=100, max_depth=10, max_features='sqrt')\n",
    "rf.fit(X_train,y_train)\n",
    "\n",
    "y_pred = rf.predict(X_test)\n",
    "print(classification_report(y_test,y_pred,target_names=['benign', 'defacement','phishing','malware']))\n",
    "\n",
    "score = met.accuracy_score(y_test, y_pred)\n",
    "print(\"accuracy:   %0.3f\" % score)"
   ]
  },
  {
   "cell_type": "code",
   "execution_count": 71,
   "metadata": {},
   "outputs": [
    {
     "data": {
      "image/png": "[encoded data removed]",
      "text/plain": [
       "<Figure size 640x480 with 2 Axes>"
      ]
     },
     "metadata": {},
     "output_type": "display_data"
    }
   ],
   "source": [
    "cm = confusion_matrix(y_test, y_pred)\n",
    "plt.rc('font', size=9)\n",
    "cc = met.ConfusionMatrixDisplay(cm, display_labels=['benign', 'defacement','phishing','malware'])\n",
    "cc.plot()\n",
    "plt.show()"
   ]
  },
  {
   "cell_type": "markdown",
   "metadata": {},
   "source": [
    "#### 3.d XGBoost classifier"
   ]
  },
  {
   "cell_type": "code",
   "execution_count": 37,
   "metadata": {},
   "outputs": [
    {
     "name": "stdout",
     "output_type": "stream",
     "text": [
      "              precision    recall  f1-score   support\n",
      "\n",
      "      benign       0.96      0.99      0.98     85621\n",
      "  defacement       0.93      0.98      0.96     19292\n",
      "    phishing       0.96      0.83      0.89      6504\n",
      "     malware       0.90      0.80      0.84     18822\n",
      "\n",
      "    accuracy                           0.95    130239\n",
      "   macro avg       0.94      0.90      0.92    130239\n",
      "weighted avg       0.95      0.95      0.95    130239\n",
      "\n",
      "accuracy:   0.951\n"
     ]
    }
   ],
   "source": [
    "xgb_classifier = xgb.XGBClassifier(max_depth=8, n_estimators= 9)\n",
    "xgb_classifier.fit(X_train,y_train)\n",
    "\n",
    "y_pred_xgb = xgb_classifier.predict(X_test)\n",
    "print(classification_report(y_test,y_pred_xgb,target_names=['benign', 'defacement','phishing','malware']))\n",
    "\n",
    "score = met.accuracy_score(y_test, y_pred_xgb)\n",
    "print(\"accuracy:   %0.3f\" % score)"
   ]
  },
  {
   "cell_type": "code",
   "execution_count": 72,
   "metadata": {},
   "outputs": [
    {
     "data": {
      "image/png": "[encoded data removed]",
      "text/plain": [
       "<Figure size 640x480 with 2 Axes>"
      ]
     },
     "metadata": {},
     "output_type": "display_data"
    }
   ],
   "source": [
    "cm = confusion_matrix(y_test, y_pred_xgb)\n",
    "plt.rc('font', size=9)\n",
    "cc = met.ConfusionMatrixDisplay(cm, display_labels=['benign', 'defacement','phishing','malware'])\n",
    "cc.plot()\n",
    "plt.show()"
   ]
  },
  {
   "cell_type": "markdown",
   "metadata": {},
   "source": [
    "#### 3.e LightGBM classifier"
   ]
  },
  {
   "cell_type": "code",
   "execution_count": 38,
   "metadata": {},
   "outputs": [
    {
     "name": "stdout",
     "output_type": "stream",
     "text": [
      "[LightGBM] [Warning] Accuracy may be bad since you didn't explicitly set num_leaves OR 2^max_depth > num_leaves. (num_leaves=31).\n",
      "[LightGBM] [Warning] Accuracy may be bad since you didn't explicitly set num_leaves OR 2^max_depth > num_leaves. (num_leaves=31).\n",
      "[LightGBM] [Info] Auto-choosing row-wise multi-threading, the overhead of testing was 0.052397 seconds.\n",
      "You can set `force_row_wise=true` to remove the overhead.\n",
      "And if memory is not enough, you can set `force_col_wise=true`.\n",
      "[LightGBM] [Info] Total Bins 1499\n",
      "[LightGBM] [Info] Number of data points in the train set: 520952, number of used features: 25\n",
      "[LightGBM] [Info] Start training from score -0.419439\n",
      "[LightGBM] [Info] Start training from score -1.909712\n",
      "[LightGBM] [Info] Start training from score -2.996946\n",
      "[LightGBM] [Info] Start training from score -1.934324\n",
      "[LightGBM] [Warning] Accuracy may be bad since you didn't explicitly set num_leaves OR 2^max_depth > num_leaves. (num_leaves=31).\n",
      "              precision    recall  f1-score   support\n",
      "\n",
      "      benign       0.97      0.99      0.98     85621\n",
      "  defacement       0.96      0.99      0.98     19292\n",
      "    phishing       0.97      0.90      0.93      6504\n",
      "     malware       0.91      0.83      0.87     18822\n",
      "\n",
      "    accuracy                           0.96    130239\n",
      "   macro avg       0.95      0.93      0.94    130239\n",
      "weighted avg       0.96      0.96      0.96    130239\n",
      "\n",
      "accuracy:   0.961\n"
     ]
    }
   ],
   "source": [
    "lgb_classifier = lgb.LGBMClassifier(max_depth=8, n_estimators=94)\n",
    "lgb_classifier.fit(X_train,y_train)\n",
    "\n",
    "y_pred_lgm = lgb_classifier.predict(X_test)\n",
    "print(classification_report(y_test,y_pred_lgm,target_names=['benign', 'defacement','phishing','malware']))\n",
    "\n",
    "score = met.accuracy_score(y_test, y_pred_lgm)\n",
    "print(\"accuracy:   %0.3f\" % score)"
   ]
  },
  {
   "cell_type": "code",
   "execution_count": 73,
   "metadata": {},
   "outputs": [
    {
     "data": {
      "image/png": "[encoded data removed]",
      "text/plain": [
       "<Figure size 640x480 with 2 Axes>"
      ]
     },
     "metadata": {},
     "output_type": "display_data"
    }
   ],
   "source": [
    "cm = confusion_matrix(y_test, y_pred_lgm)\n",
    "plt.rc('font', size=9)\n",
    "cc = met.ConfusionMatrixDisplay(cm, display_labels=['benign', 'defacement','phishing','malware'])\n",
    "cc.plot()\n",
    "plt.show()"
   ]
  },
  {
   "cell_type": "markdown",
   "metadata": {},
   "source": [
    "## 4. Ensemble models "
   ]
  },
  {
   "cell_type": "markdown",
   "metadata": {},
   "source": [
    "#### 4.a Voting classifier"
   ]
  },
  {
   "cell_type": "code",
   "execution_count": 69,
   "metadata": {},
   "outputs": [
    {
     "name": "stdout",
     "output_type": "stream",
     "text": [
      "[LightGBM] [Warning] Accuracy may be bad since you didn't explicitly set num_leaves OR 2^max_depth > num_leaves. (num_leaves=31).\n",
      "[LightGBM] [Warning] Accuracy may be bad since you didn't explicitly set num_leaves OR 2^max_depth > num_leaves. (num_leaves=31).\n",
      "[LightGBM] [Info] Auto-choosing row-wise multi-threading, the overhead of testing was 0.047507 seconds.\n",
      "You can set `force_row_wise=true` to remove the overhead.\n",
      "And if memory is not enough, you can set `force_col_wise=true`.\n",
      "[LightGBM] [Info] Total Bins 1499\n",
      "[LightGBM] [Info] Number of data points in the train set: 520952, number of used features: 25\n",
      "[LightGBM] [Info] Start training from score -0.419439\n",
      "[LightGBM] [Info] Start training from score -1.909712\n",
      "[LightGBM] [Info] Start training from score -2.996946\n",
      "[LightGBM] [Info] Start training from score -1.934324\n",
      "[LightGBM] [Warning] Accuracy may be bad since you didn't explicitly set num_leaves OR 2^max_depth > num_leaves. (num_leaves=31).\n",
      "              precision    recall  f1-score   support\n",
      "\n",
      "      benign       0.97      0.99      0.98     85621\n",
      "  defacement       0.98      0.99      0.98     19292\n",
      "    phishing       0.97      0.93      0.95      6504\n",
      "     malware       0.91      0.85      0.88     18822\n",
      "\n",
      "    accuracy                           0.96    130239\n",
      "   macro avg       0.96      0.94      0.95    130239\n",
      "weighted avg       0.96      0.96      0.96    130239\n",
      "\n",
      "accuracy:   0.965\n"
     ]
    }
   ],
   "source": [
    "new_estimators_3 = [\n",
    "                 (\"tree\",tree_clf),\n",
    "                 (\"tree_2\",tree_clf),\n",
    "                 (\"lgb\", lgb_classifier),\n",
    "                 (\"xgn\", xgb_classifier),\n",
    "                 (\"rf\", rf)\n",
    "                ]\n",
    "\n",
    "voting_clf_3 = VotingClassifier(estimators=new_estimators_3, voting='soft')\n",
    "\n",
    "voting_clf_3.fit(X_train,y_train)\n",
    "\n",
    "y_pred_vote_3 = voting_clf_3.predict(X_test)\n",
    "print(classification_report(y_test,y_pred_vote_3,target_names=['benign', 'defacement','phishing','malware']))\n",
    "\n",
    "score = met.accuracy_score(y_test, y_pred_vote_3)\n",
    "print(\"accuracy:   %0.3f\" % score)"
   ]
  },
  {
   "cell_type": "code",
   "execution_count": 74,
   "metadata": {},
   "outputs": [
    {
     "data": {
      "image/png": "[encoded data removed]",
      "text/plain": [
       "<Figure size 640x480 with 2 Axes>"
      ]
     },
     "metadata": {},
     "output_type": "display_data"
    }
   ],
   "source": [
    "cm = confusion_matrix(y_test, y_pred_vote_3)\n",
    "plt.rc('font', size=9)\n",
    "cc = met.ConfusionMatrixDisplay(cm, display_labels=['benign', 'defacement','phishing','malware'])\n",
    "cc.plot()\n",
    "plt.show()"
   ]
  },
  {
   "cell_type": "markdown",
   "metadata": {},
   "source": [
    "#### 4.b Stacking classifier"
   ]
  },
  {
   "cell_type": "code",
   "execution_count": 70,
   "metadata": {},
   "outputs": [
    {
     "name": "stdout",
     "output_type": "stream",
     "text": [
      "[LightGBM] [Warning] Accuracy may be bad since you didn't explicitly set num_leaves OR 2^max_depth > num_leaves. (num_leaves=31).\n",
      "[LightGBM] [Warning] Accuracy may be bad since you didn't explicitly set num_leaves OR 2^max_depth > num_leaves. (num_leaves=31).\n",
      "[LightGBM] [Info] Auto-choosing row-wise multi-threading, the overhead of testing was 0.046927 seconds.\n",
      "You can set `force_row_wise=true` to remove the overhead.\n",
      "And if memory is not enough, you can set `force_col_wise=true`.\n",
      "[LightGBM] [Info] Total Bins 1499\n",
      "[LightGBM] [Info] Number of data points in the train set: 520952, number of used features: 25\n",
      "[LightGBM] [Info] Start training from score -0.419439\n",
      "[LightGBM] [Info] Start training from score -1.909712\n",
      "[LightGBM] [Info] Start training from score -2.996946\n",
      "[LightGBM] [Info] Start training from score -1.934324\n",
      "[LightGBM] [Warning] Accuracy may be bad since you didn't explicitly set num_leaves OR 2^max_depth > num_leaves. (num_leaves=31).\n",
      "[LightGBM] [Warning] Accuracy may be bad since you didn't explicitly set num_leaves OR 2^max_depth > num_leaves. (num_leaves=31).\n",
      "[LightGBM] [Info] Auto-choosing row-wise multi-threading, the overhead of testing was 0.028003 seconds.\n",
      "You can set `force_row_wise=true` to remove the overhead.\n",
      "And if memory is not enough, you can set `force_col_wise=true`.\n",
      "[LightGBM] [Info] Total Bins 1508\n",
      "[LightGBM] [Info] Number of data points in the train set: 416761, number of used features: 25\n",
      "[LightGBM] [Info] Start training from score -0.419440\n",
      "[LightGBM] [Info] Start training from score -1.909710\n",
      "[LightGBM] [Info] Start training from score -2.996935\n",
      "[LightGBM] [Info] Start training from score -1.934326\n",
      "[LightGBM] [Warning] Accuracy may be bad since you didn't explicitly set num_leaves OR 2^max_depth > num_leaves. (num_leaves=31).\n",
      "[LightGBM] [Warning] Accuracy may be bad since you didn't explicitly set num_leaves OR 2^max_depth > num_leaves. (num_leaves=31).\n",
      "[LightGBM] [Warning] Accuracy may be bad since you didn't explicitly set num_leaves OR 2^max_depth > num_leaves. (num_leaves=31).\n",
      "[LightGBM] [Info] Auto-choosing row-wise multi-threading, the overhead of testing was 0.037281 seconds.\n",
      "You can set `force_row_wise=true` to remove the overhead.\n",
      "And if memory is not enough, you can set `force_col_wise=true`.\n",
      "[LightGBM] [Info] Total Bins 1505\n",
      "[LightGBM] [Info] Number of data points in the train set: 416761, number of used features: 25\n",
      "[LightGBM] [Info] Start training from score -0.419440\n",
      "[LightGBM] [Info] Start training from score -1.909710\n",
      "[LightGBM] [Info] Start training from score -2.996983\n",
      "[LightGBM] [Info] Start training from score -1.934309\n",
      "[LightGBM] [Warning] Accuracy may be bad since you didn't explicitly set num_leaves OR 2^max_depth > num_leaves. (num_leaves=31).\n",
      "[LightGBM] [Warning] Accuracy may be bad since you didn't explicitly set num_leaves OR 2^max_depth > num_leaves. (num_leaves=31).\n",
      "[LightGBM] [Warning] Accuracy may be bad since you didn't explicitly set num_leaves OR 2^max_depth > num_leaves. (num_leaves=31).\n",
      "[LightGBM] [Info] Auto-choosing row-wise multi-threading, the overhead of testing was 0.038309 seconds.\n",
      "You can set `force_row_wise=true` to remove the overhead.\n",
      "And if memory is not enough, you can set `force_col_wise=true`.\n",
      "[LightGBM] [Info] Total Bins 1501\n",
      "[LightGBM] [Info] Number of data points in the train set: 416762, number of used features: 25\n",
      "[LightGBM] [Info] Start training from score -0.419438\n",
      "[LightGBM] [Info] Start training from score -1.909713\n",
      "[LightGBM] [Info] Start training from score -2.996938\n",
      "[LightGBM] [Info] Start training from score -1.934328\n",
      "[LightGBM] [Warning] Accuracy may be bad since you didn't explicitly set num_leaves OR 2^max_depth > num_leaves. (num_leaves=31).\n",
      "[LightGBM] [Warning] Accuracy may be bad since you didn't explicitly set num_leaves OR 2^max_depth > num_leaves. (num_leaves=31).\n",
      "[LightGBM] [Warning] Accuracy may be bad since you didn't explicitly set num_leaves OR 2^max_depth > num_leaves. (num_leaves=31).\n",
      "[LightGBM] [Info] Auto-choosing row-wise multi-threading, the overhead of testing was 0.037268 seconds.\n",
      "You can set `force_row_wise=true` to remove the overhead.\n",
      "And if memory is not enough, you can set `force_col_wise=true`.\n",
      "[LightGBM] [Info] Total Bins 1504\n",
      "[LightGBM] [Info] Number of data points in the train set: 416762, number of used features: 25\n",
      "[LightGBM] [Info] Start training from score -0.419438\n",
      "[LightGBM] [Info] Start training from score -1.909713\n",
      "[LightGBM] [Info] Start training from score -2.996938\n",
      "[LightGBM] [Info] Start training from score -1.934328\n",
      "[LightGBM] [Warning] Accuracy may be bad since you didn't explicitly set num_leaves OR 2^max_depth > num_leaves. (num_leaves=31).\n",
      "[LightGBM] [Warning] Accuracy may be bad since you didn't explicitly set num_leaves OR 2^max_depth > num_leaves. (num_leaves=31).\n",
      "[LightGBM] [Warning] Accuracy may be bad since you didn't explicitly set num_leaves OR 2^max_depth > num_leaves. (num_leaves=31).\n",
      "[LightGBM] [Info] Auto-choosing row-wise multi-threading, the overhead of testing was 0.036231 seconds.\n",
      "You can set `force_row_wise=true` to remove the overhead.\n",
      "And if memory is not enough, you can set `force_col_wise=true`.\n",
      "[LightGBM] [Info] Total Bins 1498\n",
      "[LightGBM] [Info] Number of data points in the train set: 416762, number of used features: 25\n",
      "[LightGBM] [Info] Start training from score -0.419438\n",
      "[LightGBM] [Info] Start training from score -1.909713\n",
      "[LightGBM] [Info] Start training from score -2.996938\n",
      "[LightGBM] [Info] Start training from score -1.934328\n",
      "[LightGBM] [Warning] Accuracy may be bad since you didn't explicitly set num_leaves OR 2^max_depth > num_leaves. (num_leaves=31).\n",
      "[LightGBM] [Warning] Accuracy may be bad since you didn't explicitly set num_leaves OR 2^max_depth > num_leaves. (num_leaves=31).\n",
      "              precision    recall  f1-score   support\n",
      "\n",
      "      benign       0.97      0.99      0.98     85621\n",
      "  defacement       0.98      0.99      0.98     19292\n",
      "    phishing       0.97      0.93      0.95      6504\n",
      "     malware       0.91      0.86      0.89     18822\n",
      "\n",
      "    accuracy                           0.97    130239\n",
      "   macro avg       0.96      0.94      0.95    130239\n",
      "weighted avg       0.97      0.97      0.97    130239\n",
      "\n",
      "accuracy:   0.966\n"
     ]
    }
   ],
   "source": [
    "stacking_clf = StackingClassifier(\n",
    "    estimators=[\n",
    "                (\"tree1\",tree_clf),\n",
    "                (\"tree_2\",tree_clf),\n",
    "                (\"lgb\", lgb_classifier),\n",
    "                (\"xgn\", xgb_classifier),\n",
    "                (\"rf\", rf)\n",
    "               ],\n",
    "    final_estimator=log_clf,\n",
    "    cv=5  # number of cross-validation folds\n",
    ")\n",
    "\n",
    "stacking_clf.fit(X_train,y_train)\n",
    "\n",
    "y_pred_stack = stacking_clf.predict(X_test)\n",
    "print(classification_report(y_test,y_pred_stack,target_names=['benign', 'defacement','phishing','malware']))\n",
    "score = met.accuracy_score(y_test, y_pred_stack)\n",
    "print(\"accuracy:   %0.3f\" % score)"
   ]
  },
  {
   "cell_type": "code",
   "execution_count": 75,
   "metadata": {},
   "outputs": [
    {
     "data": {
      "image/png": "[encoded data removed]",
      "text/plain": [
       "<Figure size 640x480 with 2 Axes>"
      ]
     },
     "metadata": {},
     "output_type": "display_data"
    }
   ],
   "source": [
    "cm = confusion_matrix(y_test, y_pred_stack)\n",
    "plt.rc('font', size=9)\n",
    "cc = met.ConfusionMatrixDisplay(cm, display_labels=['benign', 'defacement','phishing','malware'])\n",
    "cc.plot()\n",
    "plt.show()"
   ]
  },
  {
   "cell_type": "markdown",
   "metadata": {},
   "source": [
    "#### In conclusion, the both ensemble models performed better than the best individual base classifier that is LightGBM (96.1%), with voting classifier(96.5%) and stacking classifier(96.6%)"
   ]
  }
 ],
 "metadata": {
  "kernelspec": {
   "display_name": "env",
   "language": "python",
   "name": "python3"
  },
  "language_info": {
   "codemirror_mode": {
    "name": "ipython",
    "version": 3
   },
   "file_extension": ".py",
   "mimetype": "text/x-python",
   "name": "python",
   "nbconvert_exporter": "python",
   "pygments_lexer": "ipython3",
   "version": "3.10.8"
  }
 },
 "nbformat": 4,
 "nbformat_minor": 2
}
